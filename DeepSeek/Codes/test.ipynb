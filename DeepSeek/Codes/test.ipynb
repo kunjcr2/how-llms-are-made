{
 "cells": [
  {
   "cell_type": "code",
   "execution_count": 1,
   "id": "64d838c3",
   "metadata": {},
   "outputs": [],
   "source": [
    "import torch"
   ]
  },
  {
   "cell_type": "code",
   "execution_count": 4,
   "id": "2090eaf0",
   "metadata": {},
   "outputs": [],
   "source": [
    "x = torch.randn(2, 5, 6)  # Example input tensor"
   ]
  },
  {
   "cell_type": "code",
   "execution_count": 5,
   "id": "d6e96a8a",
   "metadata": {},
   "outputs": [
    {
     "data": {
      "text/plain": [
       "tensor([[[ 1.0216,  0.7342, -0.6790, -0.2337, -0.2148,  1.6775],\n",
       "         [ 1.0349,  0.3573, -1.1944, -0.2279, -0.6715, -0.4217],\n",
       "         [-0.4813, -0.2808, -0.1857, -0.8592, -1.1012, -1.0274],\n",
       "         [ 0.4788, -1.0373,  1.3541, -0.4275, -0.6349, -0.1834],\n",
       "         [-1.0881,  1.2217,  0.2649,  1.0102, -0.5774, -0.8120]],\n",
       "\n",
       "        [[ 0.1743, -0.3477, -0.4250, -1.1201, -0.7737, -0.0672],\n",
       "         [-0.6176,  0.6850, -1.1081, -0.8190,  1.2918,  0.5051],\n",
       "         [ 0.2261,  0.1991,  0.8351,  1.1934, -0.2743,  1.3275],\n",
       "         [-1.6223, -1.0311,  0.2556, -0.1470,  0.2200,  0.1023],\n",
       "         [-0.3080, -0.6187,  0.2693, -0.8978,  0.8426,  0.9483]]])"
      ]
     },
     "execution_count": 5,
     "metadata": {},
     "output_type": "execute_result"
    }
   ],
   "source": [
    "x"
   ]
  },
  {
   "cell_type": "code",
   "execution_count": 6,
   "id": "ab9b694b",
   "metadata": {},
   "outputs": [
    {
     "data": {
      "text/plain": [
       "tensor([[[[ 1.0216,  0.7342],\n",
       "          [-0.6790, -0.2337],\n",
       "          [-0.2148,  1.6775]],\n",
       "\n",
       "         [[ 1.0349,  0.3573],\n",
       "          [-1.1944, -0.2279],\n",
       "          [-0.6715, -0.4217]],\n",
       "\n",
       "         [[-0.4813, -0.2808],\n",
       "          [-0.1857, -0.8592],\n",
       "          [-1.1012, -1.0274]],\n",
       "\n",
       "         [[ 0.4788, -1.0373],\n",
       "          [ 1.3541, -0.4275],\n",
       "          [-0.6349, -0.1834]],\n",
       "\n",
       "         [[-1.0881,  1.2217],\n",
       "          [ 0.2649,  1.0102],\n",
       "          [-0.5774, -0.8120]]],\n",
       "\n",
       "\n",
       "        [[[ 0.1743, -0.3477],\n",
       "          [-0.4250, -1.1201],\n",
       "          [-0.7737, -0.0672]],\n",
       "\n",
       "         [[-0.6176,  0.6850],\n",
       "          [-1.1081, -0.8190],\n",
       "          [ 1.2918,  0.5051]],\n",
       "\n",
       "         [[ 0.2261,  0.1991],\n",
       "          [ 0.8351,  1.1934],\n",
       "          [-0.2743,  1.3275]],\n",
       "\n",
       "         [[-1.6223, -1.0311],\n",
       "          [ 0.2556, -0.1470],\n",
       "          [ 0.2200,  0.1023]],\n",
       "\n",
       "         [[-0.3080, -0.6187],\n",
       "          [ 0.2693, -0.8978],\n",
       "          [ 0.8426,  0.9483]]]])"
      ]
     },
     "execution_count": 6,
     "metadata": {},
     "output_type": "execute_result"
    }
   ],
   "source": [
    "x.view(2, 5, 3, 2)  # Reshape to (batch_size, seq_len, d_model//2, 2)"
   ]
  },
  {
   "cell_type": "code",
   "execution_count": null,
   "id": "77668d23",
   "metadata": {},
   "outputs": [],
   "source": []
  }
 ],
 "metadata": {
  "kernelspec": {
   "display_name": "Python 3",
   "language": "python",
   "name": "python3"
  },
  "language_info": {
   "codemirror_mode": {
    "name": "ipython",
    "version": 3
   },
   "file_extension": ".py",
   "mimetype": "text/x-python",
   "name": "python",
   "nbconvert_exporter": "python",
   "pygments_lexer": "ipython3",
   "version": "3.13.2"
  }
 },
 "nbformat": 4,
 "nbformat_minor": 5
}
