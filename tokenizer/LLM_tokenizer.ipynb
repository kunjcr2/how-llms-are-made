{
  "cells": [
    {
      "cell_type": "code",
      "execution_count": null,
      "metadata": {
        "id": "SDkHBXrl1dCE"
      },
      "outputs": [],
      "source": [
        "with open(\"the_verdict.txt\", \"r\", encoding=\"utf-8\") as f:\n",
        "  raw_text = f.read()"
      ]
    },
    {
      "cell_type": "code",
      "execution_count": null,
      "metadata": {
        "colab": {
          "base_uri": "https://localhost:8080/"
        },
        "collapsed": true,
        "id": "rBQ370rvaT84",
        "outputId": "4b981ff5-c216-44f9-ed00-d14cd4698ad2"
      },
      "outputs": [
        {
          "name": "stdout",
          "output_type": "stream",
          "text": [
            "Collecting tiktoken\n",
            "  Downloading tiktoken-0.9.0-cp311-cp311-manylinux_2_17_x86_64.manylinux2014_x86_64.whl.metadata (6.7 kB)\n",
            "Requirement already satisfied: regex>=2022.1.18 in /usr/local/lib/python3.11/dist-packages (from tiktoken) (2024.11.6)\n",
            "Requirement already satisfied: requests>=2.26.0 in /usr/local/lib/python3.11/dist-packages (from tiktoken) (2.32.3)\n",
            "Requirement already satisfied: charset-normalizer<4,>=2 in /usr/local/lib/python3.11/dist-packages (from requests>=2.26.0->tiktoken) (3.4.1)\n",
            "Requirement already satisfied: idna<4,>=2.5 in /usr/local/lib/python3.11/dist-packages (from requests>=2.26.0->tiktoken) (3.10)\n",
            "Requirement already satisfied: urllib3<3,>=1.21.1 in /usr/local/lib/python3.11/dist-packages (from requests>=2.26.0->tiktoken) (2.3.0)\n",
            "Requirement already satisfied: certifi>=2017.4.17 in /usr/local/lib/python3.11/dist-packages (from requests>=2.26.0->tiktoken) (2025.1.31)\n",
            "Downloading tiktoken-0.9.0-cp311-cp311-manylinux_2_17_x86_64.manylinux2014_x86_64.whl (1.2 MB)\n",
            "\u001b[2K   \u001b[90m━━━━━━━━━━━━━━━━━━━━━━━━━━━━━━━━━━━━━━━━\u001b[0m \u001b[32m1.2/1.2 MB\u001b[0m \u001b[31m13.4 MB/s\u001b[0m eta \u001b[36m0:00:00\u001b[0m\n",
            "\u001b[?25hInstalling collected packages: tiktoken\n",
            "Successfully installed tiktoken-0.9.0\n"
          ]
        }
      ],
      "source": [
        "!pip install tiktoken"
      ]
    },
    {
      "cell_type": "code",
      "execution_count": null,
      "metadata": {
        "id": "yrQt2sOJkTMx"
      },
      "outputs": [],
      "source": [
        "import tiktoken"
      ]
    },
    {
      "cell_type": "markdown",
      "metadata": {
        "id": "uFOWMFF9lMtq"
      },
      "source": [
        "Loading gpt2 tokenizer"
      ]
    },
    {
      "cell_type": "markdown",
      "metadata": {
        "id": "JQDpFjjWhC4o"
      },
      "source": [
        "## Creating input output pairs\n",
        "\n",
        "we're implemeting data loaders using sliding window approach"
      ]
    },
    {
      "cell_type": "markdown",
      "metadata": {
        "id": "R7reKAPRmL8e"
      },
      "source": [
        "Data loaders are efficient and structured way of using datasets\n",
        "we're using pytorch's inbubilt stuff"
      ]
    },
    {
      "cell_type": "code",
      "execution_count": null,
      "metadata": {
        "id": "-Vz-Dyt0k6LP"
      },
      "outputs": [],
      "source": [
        "from torch.utils.data import Dataset, DataLoader\n",
        "import torch"
      ]
    },
    {
      "cell_type": "code",
      "execution_count": null,
      "metadata": {
        "id": "WZCaIuRFu1H-"
      },
      "outputs": [],
      "source": [
        "class GPTDatasetV1(Dataset):\n",
        "    def __init__(self, txt, tokenizer, max_length, stride):\n",
        "        self.input_ids = []\n",
        "        self.target_ids = []\n",
        "\n",
        "        # Tokenize the entire text\n",
        "        token_ids = tokenizer.encode(txt, allowed_special={\"<|endoftext|>\"})\n",
        "\n",
        "        # Use a sliding window to chunk the book into overlapping sequences of max_length\n",
        "        for i in range(0, len(token_ids) - max_length, stride):\n",
        "            self.input_ids.append(torch.tensor(token_ids[i:i + max_length]))\n",
        "            self.target_ids.append(torch.tensor(token_ids[i + 1: i + max_length + 1]))\n",
        "\n",
        "    def __len__(self):\n",
        "        return len(self.input_ids)\n",
        "\n",
        "    def __getitem__(self, idx):\n",
        "        return self.input_ids[idx], self.target_ids[idx]"
      ]
    },
    {
      "cell_type": "code",
      "execution_count": null,
      "metadata": {
        "id": "6oYFtXmtyEJ4"
      },
      "outputs": [],
      "source": [
        "def create_dataloader_v1(txt, batch_size=4, max_length=256,\n",
        "                         stride=128, shuffle=True, drop_last=True,\n",
        "                         num_workers=0):\n",
        "\n",
        "    # Initialize the tokenizer\n",
        "    tokenizer = tiktoken.get_encoding(\"gpt2\")\n",
        "\n",
        "    # Create dataset\n",
        "    dataset = GPTDatasetV1(txt, tokenizer, max_length, stride)\n",
        "\n",
        "    # Create dataloader\n",
        "    dataloader = DataLoader(\n",
        "        dataset,\n",
        "        batch_size=batch_size,\n",
        "        shuffle=shuffle,\n",
        "        drop_last=drop_last,\n",
        "        num_workers=num_workers\n",
        "    )\n",
        "\n",
        "    return dataloader"
      ]
    },
    {
      "cell_type": "code",
      "execution_count": null,
      "metadata": {
        "id": "4mdFXkJw4Hcy"
      },
      "outputs": [],
      "source": [
        "dataloader_2 = create_dataloader_v1(raw_text, batch_size=8, max_length=4, stride=4, shuffle=False)"
      ]
    },
    {
      "cell_type": "code",
      "execution_count": null,
      "metadata": {
        "id": "UqWoj1ht43S3"
      },
      "outputs": [],
      "source": [
        "data_iter_2 = iter(dataloader_2)"
      ]
    },
    {
      "cell_type": "code",
      "execution_count": null,
      "metadata": {
        "colab": {
          "base_uri": "https://localhost:8080/"
        },
        "id": "KrqnYSf75EFq",
        "outputId": "46baaace-718e-43d3-8418-5266c4649efc"
      },
      "outputs": [
        {
          "data": {
            "text/plain": [
              "[tensor([[10970, 33310,    35, 18379],\n",
              "         [  198, 15749, 40417,   628],\n",
              "         [  198,    40,   550,  1464],\n",
              "         [ 1807,  3619,   402,   271],\n",
              "         [10899,  2138,   257,  7026],\n",
              "         [15632,   438,  2016,   257],\n",
              "         [  198, 11274,  5891,  1576],\n",
              "         [  438,   568,   340,   373]]),\n",
              " tensor([[33310,    35, 18379,   198],\n",
              "         [15749, 40417,   628,   198],\n",
              "         [   40,   550,  1464,  1807],\n",
              "         [ 3619,   402,   271, 10899],\n",
              "         [ 2138,   257,  7026, 15632],\n",
              "         [  438,  2016,   257,   198],\n",
              "         [11274,  5891,  1576,   438],\n",
              "         [  568,   340,   373,   645]])]"
            ]
          },
          "execution_count": 9,
          "metadata": {},
          "output_type": "execute_result"
        }
      ],
      "source": [
        "next(data_iter_2)"
      ]
    },
    {
      "cell_type": "markdown",
      "metadata": {
        "id": "ZD4nHXmRdzK_"
      },
      "source": [
        "Lets trynna make token embeddings now\n",
        "\n",
        "Lets take a simplest form of example with just vocab of size 6 and vector embedding of size 3"
      ]
    },
    {
      "cell_type": "code",
      "execution_count": null,
      "metadata": {
        "id": "_TMqazTf46IS"
      },
      "outputs": [],
      "source": [
        "inputs = torch.tensor([2, 3, 5, 1])"
      ]
    },
    {
      "cell_type": "code",
      "execution_count": null,
      "metadata": {
        "id": "rl51Pg9eezmw"
      },
      "outputs": [],
      "source": [
        "vocab_size = 6\n",
        "output_dim = 3\n",
        "\n",
        "embed_1 = torch.nn.Embedding(vocab_size, output_dim)"
      ]
    },
    {
      "cell_type": "markdown",
      "metadata": {
        "id": "MXZHbeqvfQjB"
      },
      "source": [
        "Randomly initialized embedding layer weights"
      ]
    },
    {
      "cell_type": "code",
      "execution_count": null,
      "metadata": {
        "colab": {
          "base_uri": "https://localhost:8080/"
        },
        "id": "J08dz967e82f",
        "outputId": "f4cf9598-4b39-4170-aeaf-547edae835b1"
      },
      "outputs": [
        {
          "data": {
            "text/plain": [
              "Parameter containing:\n",
              "tensor([[ 0.6590,  1.8272,  0.9967],\n",
              "        [ 0.7668,  0.0812, -0.2805],\n",
              "        [ 0.3666, -0.4789, -0.9839],\n",
              "        [ 0.9342,  1.6583, -0.8979],\n",
              "        [ 0.0170, -1.2282,  0.9828],\n",
              "        [-1.0764, -0.1559,  1.5065]], requires_grad=True)"
            ]
          },
          "execution_count": 12,
          "metadata": {},
          "output_type": "execute_result"
        }
      ],
      "source": [
        "embed_1.weight"
      ]
    },
    {
      "cell_type": "markdown",
      "metadata": {
        "id": "d1Ck3C6Afiid"
      },
      "source": [
        "Basically when we train model. The weights of this particular embedding layer that is in the start PLUS the weights of the actual neurons in the neural netowrk are tuned and hence used later on in predicting next word."
      ]
    },
    {
      "cell_type": "code",
      "execution_count": null,
      "metadata": {
        "colab": {
          "base_uri": "https://localhost:8080/"
        },
        "id": "LD0kbBoafEii",
        "outputId": "3f53ab66-bf33-4789-ae16-51e30fa304ca"
      },
      "outputs": [
        {
          "name": "stdout",
          "output_type": "stream",
          "text": [
            "tensor([[ 0.3666, -0.4789, -0.9839],\n",
            "        [ 0.9342,  1.6583, -0.8979],\n",
            "        [-1.0764, -0.1559,  1.5065],\n",
            "        [ 0.7668,  0.0812, -0.2805]], grad_fn=<EmbeddingBackward0>)\n"
          ]
        }
      ],
      "source": [
        "print(embed_1(inputs))"
      ]
    },
    {
      "cell_type": "markdown",
      "metadata": {
        "id": "I6Hbu67Vtc1L"
      },
      "source": [
        "Positional encodings"
      ]
    },
    {
      "cell_type": "code",
      "execution_count": null,
      "metadata": {
        "id": "W4_VnRqDib5Q"
      },
      "outputs": [],
      "source": [
        "vocab_size = 50257\n",
        "output_dim = 256\n",
        "\n",
        "embed = torch.nn.Embedding(vocab_size, output_dim)"
      ]
    },
    {
      "cell_type": "code",
      "execution_count": null,
      "metadata": {
        "id": "XClln8SztnRx"
      },
      "outputs": [],
      "source": [
        "max_length = 4\n",
        "dataloader = create_dataloader_v1(\n",
        "    raw_text, batch_size=8, max_length=max_length, stride=max_length, shuffle=False\n",
        ")\n",
        "data_itr = iter(dataloader)"
      ]
    },
    {
      "cell_type": "code",
      "execution_count": null,
      "metadata": {
        "id": "ocW5_VS-vGtZ"
      },
      "outputs": [],
      "source": [
        "inputs, targets = next(data_itr)"
      ]
    },
    {
      "cell_type": "code",
      "execution_count": null,
      "metadata": {
        "id": "kbxE6MlCvKmZ"
      },
      "outputs": [],
      "source": [
        "token_embedding = embed(inputs)"
      ]
    },
    {
      "cell_type": "code",
      "execution_count": null,
      "metadata": {
        "colab": {
          "base_uri": "https://localhost:8080/"
        },
        "id": "1cUDM_Envc9t",
        "outputId": "a1c94b47-bcf8-4782-8a29-fbc3788c40ba"
      },
      "outputs": [
        {
          "data": {
            "text/plain": [
              "torch.Size([8, 4, 256])"
            ]
          },
          "execution_count": 18,
          "metadata": {},
          "output_type": "execute_result"
        }
      ],
      "source": [
        "token_embedding.shape"
      ]
    },
    {
      "cell_type": "markdown",
      "metadata": {
        "id": "uo2QgygXwjnu"
      },
      "source": [
        "Now we add positional embedding"
      ]
    },
    {
      "cell_type": "markdown",
      "metadata": {
        "id": "jGxviNOJzGhy"
      },
      "source": [
        "- We have context_length of 4 as we JUST want the positional embeddings for positions 0,1,2,3 and that's why we have context_length of 4 only rather than being of 50257.\n",
        "\n",
        "- Also, the what we are going to do is basically add this positional embeddings to the inputs embeddings and have our final input ready for torch to have."
      ]
    },
    {
      "cell_type": "code",
      "execution_count": null,
      "metadata": {
        "id": "FMWgO-JjwaUc"
      },
      "outputs": [],
      "source": [
        "context_length = max_length\n",
        "embed_pos = torch.nn.Embedding(context_length, output_dim)"
      ]
    },
    {
      "cell_type": "code",
      "execution_count": null,
      "metadata": {
        "id": "Zv85N4gbx_EP"
      },
      "outputs": [],
      "source": [
        "pos_embeddings = embed_pos(torch.arange(max_length))"
      ]
    },
    {
      "cell_type": "code",
      "execution_count": null,
      "metadata": {
        "colab": {
          "base_uri": "https://localhost:8080/"
        },
        "id": "Rkloz_Dbyh-W",
        "outputId": "a00e9a1a-7da6-4f5a-a3ba-7257bb000390"
      },
      "outputs": [
        {
          "data": {
            "text/plain": [
              "tensor([[ 0.4138,  0.1417, -1.0336,  ...,  1.0254,  1.0297,  0.3817],\n",
              "        [ 0.5235, -0.4544, -0.3201,  ...,  0.8458, -2.0020,  0.8202],\n",
              "        [ 0.2843, -0.6244, -1.6005,  ...,  0.2893,  1.2007,  1.5052],\n",
              "        [ 1.1805, -1.9126,  0.9538,  ..., -1.1906, -1.4974,  0.0035]],\n",
              "       grad_fn=<EmbeddingBackward0>)"
            ]
          },
          "execution_count": 21,
          "metadata": {},
          "output_type": "execute_result"
        }
      ],
      "source": [
        "pos_embeddings"
      ]
    },
    {
      "cell_type": "code",
      "execution_count": null,
      "metadata": {
        "id": "vzHm-k9IzEOA"
      },
      "outputs": [],
      "source": [
        "inputs_embeddings = pos_embeddings + token_embedding"
      ]
    },
    {
      "cell_type": "code",
      "execution_count": null,
      "metadata": {
        "colab": {
          "base_uri": "https://localhost:8080/"
        },
        "id": "2v2QD8dL0fHd",
        "outputId": "82567520-e9b4-4679-e1ae-fe455efd7fee"
      },
      "outputs": [
        {
          "data": {
            "text/plain": [
              "torch.Size([8, 4, 256])"
            ]
          },
          "execution_count": 23,
          "metadata": {},
          "output_type": "execute_result"
        }
      ],
      "source": [
        "inputs_embeddings.shape"
      ]
    },
    {
      "cell_type": "code",
      "execution_count": null,
      "metadata": {
        "id": "ganH5DKx4mdP"
      },
      "outputs": [],
      "source": []
    }
  ],
  "metadata": {
    "colab": {
      "provenance": []
    },
    "kernelspec": {
      "display_name": "Python 3",
      "name": "python3"
    },
    "language_info": {
      "name": "python"
    }
  },
  "nbformat": 4,
  "nbformat_minor": 0
}
