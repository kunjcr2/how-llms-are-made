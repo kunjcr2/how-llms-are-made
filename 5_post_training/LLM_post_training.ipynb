{
  "cells": [
    {
      "cell_type": "markdown",
      "metadata": {
        "id": "oqe50lsvju_R"
      },
      "source": [
        "## Params"
      ]
    },
    {
      "cell_type": "code",
      "execution_count": null,
      "metadata": {
        "colab": {
          "base_uri": "https://localhost:8080/"
        },
        "id": "a0-wTo87kDIr",
        "outputId": "d1e652ce-bf6a-447d-ef25-eea840fc6111"
      },
      "outputs": [
        {
          "name": "stdout",
          "output_type": "stream",
          "text": [
            "Requirement already satisfied: tiktoken in /usr/local/lib/python3.11/dist-packages (0.9.0)\n",
            "Requirement already satisfied: regex>=2022.1.18 in /usr/local/lib/python3.11/dist-packages (from tiktoken) (2024.11.6)\n",
            "Requirement already satisfied: requests>=2.26.0 in /usr/local/lib/python3.11/dist-packages (from tiktoken) (2.32.3)\n",
            "Requirement already satisfied: charset-normalizer<4,>=2 in /usr/local/lib/python3.11/dist-packages (from requests>=2.26.0->tiktoken) (3.4.2)\n",
            "Requirement already satisfied: idna<4,>=2.5 in /usr/local/lib/python3.11/dist-packages (from requests>=2.26.0->tiktoken) (3.10)\n",
            "Requirement already satisfied: urllib3<3,>=1.21.1 in /usr/local/lib/python3.11/dist-packages (from requests>=2.26.0->tiktoken) (2.4.0)\n",
            "Requirement already satisfied: certifi>=2017.4.17 in /usr/local/lib/python3.11/dist-packages (from requests>=2.26.0->tiktoken) (2025.4.26)\n"
          ]
        }
      ],
      "source": [
        "!pip install tiktoken\n",
        "import tiktoken\n",
        "tokenizer = tiktoken.get_encoding(\"gpt2\")"
      ]
    },
    {
      "cell_type": "code",
      "execution_count": null,
      "metadata": {
        "id": "M7a4EoGAj1x0"
      },
      "outputs": [],
      "source": [
        "import torch\n",
        "import torch.nn as nn\n",
        "from torch.utils.data import Dataset, DataLoader\n",
        "\n",
        "GPT_CONFIG_124M = {\n",
        "    \"vocab_size\": 50257,  # Vocabulary size\n",
        "    \"context_length\": 256,  # Context length\n",
        "    \"emb_dim\": 768,  # Embedding dimension\n",
        "    \"n_layers\": 12,  # Number of\n",
        "    \"n_heads\": 12,  # Number of attention heads per transformer block\n",
        "    \"drop_rate\": 0.1,  # Dropout rate\n",
        "    \"qkv_bias\": False,  # Query-Key-Value bias\n",
        "}\n",
        "device = \"cpu\""
      ]
    },
    {
      "cell_type": "markdown",
      "metadata": {
        "id": "AxrmG9EktXox"
      },
      "source": [
        "## Preprocessing stuff"
      ]
    },
    {
      "cell_type": "code",
      "execution_count": null,
      "metadata": {
        "id": "qU5zdQ25tZiL"
      },
      "outputs": [],
      "source": [
        "class GPTDatasetV1(Dataset):\n",
        "    def __init__(self, txt, tokenizer, max_length, stride):\n",
        "        self.input_ids = []\n",
        "        self.target_ids = []\n",
        "\n",
        "        # Tokenize the entire text\n",
        "        token_ids = tokenizer.encode(txt, allowed_special={\"<|endoftext|>\"})\n",
        "\n",
        "        # Use a sliding window to chunk the book into overlapping sequences of max_length\n",
        "        for i in range(0, len(token_ids) - max_length, stride):\n",
        "            self.input_ids.append(torch.tensor(token_ids[i:i + max_length]))\n",
        "            self.target_ids.append(torch.tensor(token_ids[i + 1: i + max_length + 1]))\n",
        "\n",
        "    def __len__(self):\n",
        "        return len(self.input_ids)\n",
        "\n",
        "    def __getitem__(self, idx):\n",
        "        return self.input_ids[idx], self.target_ids[idx]"
      ]
    },
    {
      "cell_type": "code",
      "execution_count": null,
      "metadata": {
        "id": "_GMl6DPqtlWU"
      },
      "outputs": [],
      "source": [
        "def create_dataloader_v1(txt, batch_size=4, max_length=256,\n",
        "                         stride=128, shuffle=True, drop_last=True,\n",
        "                         num_workers=0):\n",
        "\n",
        "    # Initialize the tokenizer\n",
        "    tokenizer = tiktoken.get_encoding(\"gpt2\")\n",
        "\n",
        "    # Create dataset\n",
        "    dataset = GPTDatasetV1(txt, tokenizer, max_length, stride)\n",
        "\n",
        "    # Create dataloader\n",
        "    dataloader = DataLoader(\n",
        "        dataset,\n",
        "        batch_size=batch_size,\n",
        "        shuffle=shuffle,\n",
        "        drop_last=drop_last,\n",
        "        num_workers=num_workers\n",
        "    )\n",
        "\n",
        "    return dataloader"
      ]
    },
    {
      "cell_type": "markdown",
      "metadata": {
        "id": "xZz0LaT97T66"
      },
      "source": [
        "## Complete transformer block"
      ]
    },
    {
      "cell_type": "code",
      "execution_count": null,
      "metadata": {
        "id": "Fq8UX3mu71JT"
      },
      "outputs": [],
      "source": [
        "# Multiheaded attetion mechanism. Dude, this shit was fire !\n",
        "class MultiHeadAttention(nn.Module):\n",
        "  def __init__(self, d_in, d_out, context_length, dropout, num_heads, qkv_bias=False):\n",
        "        super().__init__()\n",
        "        assert (d_out % num_heads == 0), \\\n",
        "            \"d_out must be divisible by num_heads\"\n",
        "        # Having output dimension, number of heads for transformer, and Linear layers for W_q, W_k, W_v, dropout\n",
        "          # and a buffer for upper traingle masking.\n",
        "        self.d_out = d_out\n",
        "        self.num_heads = num_heads\n",
        "        self.head_dim = d_out // num_heads # Reduce the projection dim to match desired output dim\n",
        "        self.W_query = nn.Linear(d_in, d_out, bias=qkv_bias)\n",
        "        self.W_key = nn.Linear(d_in, d_out, bias=qkv_bias)\n",
        "        self.W_value = nn.Linear(d_in, d_out, bias=qkv_bias)\n",
        "        self.dropout = nn.Dropout(dropout)\n",
        "        self.register_buffer(\"mask\",torch.triu(torch.ones(context_length, context_length),diagonal=1))\n",
        "\n",
        "  def forward(self, x):\n",
        "    # unfolding the input to get the batch size, number of tokens and input dim\n",
        "    b, num_token, d_in = x.shape\n",
        "\n",
        "    # We get keys, queries and values from the input x\n",
        "    # We use the linear layers to project the input x to the keys, queries and values\n",
        "    keys = self.W_key(x)\n",
        "    queries = self.W_query(x)\n",
        "    values = self.W_value(x)\n",
        "\n",
        "    # (batch_size, num_token, d_in) -> (batch_size, num_token, num_heads, head_dim)\n",
        "    keys = keys.view(b, num_token, self.num_heads, self.head_dim)\n",
        "    values = values.view(b, num_token, self.num_heads, self.head_dim)\n",
        "    queries = queries.view(b, num_token, self.num_heads, self.head_dim)\n",
        "\n",
        "    # (batch_size, num_token, num_heads, head_dim) -> (batch_size, num_heads, num_token, head_dim)\n",
        "        # They were grouped by tokens, but now we group by heads\n",
        "    keys = keys.transpose(1,2)\n",
        "    values = values.transpose(1,2)\n",
        "    queries = queries.transpose(1,2)\n",
        "\n",
        "    # for proper multipliacation, we need to transpose the keys\n",
        "    # (batch_size, num_heads, num_token, head_dim) @ (batch_size, num_heads, head_dim, num_token)\n",
        "        # We get the attention scores\n",
        "    attn_scores = queries @ keys.transpose(2,3) # we get (..., num_token, num_token)\n",
        "\n",
        "    # We need to mask the upper triangle of the attention scores and then put -inf on the masked values\n",
        "    masked_bool = self.mask.bool()[:num_token, :num_token]\n",
        "    attn_scores.masked_fill(masked_bool, -torch.inf)\n",
        "\n",
        "    # we need to normalize the attention scores by the square root of the head dim for variance to stay near 1\n",
        "    attn_scores = attn_scores / keys.shape[-1]**0.5\n",
        "\n",
        "    # and then we apply the softmax to get the attention weights and then dropout\n",
        "    attn_weights = torch.softmax(attn_scores, dim=-1)\n",
        "    attn_weights = self.dropout(attn_weights)\n",
        "\n",
        "    # We need to multiply the attention weights with the values and then transpose the result to get original shape\n",
        "        # of (batch_size, num_token, num_heads, head_dim)\n",
        "    context_vec = (attn_weights @ values).transpose(1,2)\n",
        "\n",
        "    # We need to reshape the context vector to get the original shape of (batch_size, num_token, d_out)\n",
        "    context_vec = context_vec.contiguous().view(b, num_token, self.d_out)\n",
        "\n",
        "    return context_vec\n",
        "\n",
        "# We normalize the layer at the last dim with mean near to 0 and variance near to 1\n",
        "class LayerNorm(nn.Module):\n",
        "  def __init__(self, emb_dim):\n",
        "    super().__init__()\n",
        "    # We use eps for avoid division by 0, and we try to keep variance near to 1 and mean near to 0\n",
        "    self.eps = 1e-5\n",
        "    self.scale = nn.Parameter(torch.ones(emb_dim))\n",
        "    self.shift = nn.Parameter(torch.zeros(emb_dim))\n",
        "\n",
        "  def forward(self, x):\n",
        "    mean = x.mean(dim=-1, keepdim=True)\n",
        "    var = x.var(dim=-1, keepdim=True, unbiased=False)\n",
        "    # we do +self.eps, to let the var not be 0 and division by 0 SHOULD not be done\n",
        "    norm_x = (x-mean)/torch.sqrt(var + self.eps)\n",
        "\n",
        "    # We use scale and shift for better training and they are trainable also !!!\n",
        "    return self.scale * norm_x + self.shift\n",
        "\n",
        "# GeLU function activation\n",
        "class GeLU(nn.Module):\n",
        "  def __init__(self):\n",
        "    super().__init__()\n",
        "\n",
        "  # Better version of ReLU()\n",
        "  def forward(self, x):\n",
        "    # We use the tanh approximation of the GeLU function for better performance on activations\n",
        "    return 0.5*x*(1+torch.tanh(torch.sqrt(torch.tensor(2/torch.pi))* (x + 0.044715*x**3)))\n",
        "\n",
        "# The classic feed froward neural network\n",
        "class FeedForward(nn.Module):\n",
        "  def __init__(self, cfg):\n",
        "    super().__init__()\n",
        "\n",
        "    # Feed forward network with GeLU between 2 linear layers for exploring and learning the data\n",
        "    self.layers = nn.Sequential(\n",
        "        nn.Linear(cfg[\"emb_dim\"], 4*cfg[\"emb_dim\"]),\n",
        "        GeLU(),\n",
        "        nn.Linear(4*cfg[\"emb_dim\"], cfg[\"emb_dim\"])\n",
        "    )\n",
        "\n",
        "  def forward(self, x):\n",
        "    return self.layers(x)"
      ]
    },
    {
      "cell_type": "code",
      "execution_count": null,
      "metadata": {
        "id": "gN9ehj4290ac"
      },
      "outputs": [],
      "source": [
        "class TransformerBlock(nn.Module):\n",
        "  def __init__(self, cfg):\n",
        "    super().__init__()\n",
        "\n",
        "    # Dude, no need for the comments here. You already know. It is a transformer block bro !\n",
        "    self.att = MultiHeadAttention(\n",
        "        d_in=cfg[\"emb_dim\"],\n",
        "        d_out=cfg[\"emb_dim\"],\n",
        "        context_length=cfg[\"context_length\"],\n",
        "        dropout=cfg[\"drop_rate\"],\n",
        "        num_heads=cfg[\"n_heads\"],\n",
        "        qkv_bias=cfg[\"qkv_bias\"]\n",
        "    )\n",
        "    # We use the feed forward network with GeLU activation, and then we have 2 layer normalization as well\n",
        "        # as 2 dropout layers for better training and to avoid overfitting\n",
        "    self.ff = FeedForward(cfg)\n",
        "    self.norm1 = LayerNorm(cfg[\"emb_dim\"])\n",
        "    self.norm2 = LayerNorm(cfg[\"emb_dim\"])\n",
        "    self.drop_shortcut = nn.Dropout(cfg[\"drop_rate\"])\n",
        "\n",
        "  def forward(self,x):\n",
        "    # creating shortcut from x to the first dropout layer to preserve the gradients\n",
        "    # and to avoid vanishing gradients\n",
        "    shortcut = x\n",
        "    x = self.norm1(x)\n",
        "    x = self.att(x)\n",
        "    x = self.drop_shortcut(x)\n",
        "    x = x + shortcut\n",
        "\n",
        "    # creating shortcut from first dropout to the second dropout layer to preserve the gradients\n",
        "    # and to avoid vanishing gradients here as well\n",
        "    shortcut = x\n",
        "    x = self.norm2(x)\n",
        "    x = self.ff(x)\n",
        "    x = self.drop_shortcut(x)\n",
        "    x = x + shortcut\n",
        "\n",
        "    return x"
      ]
    },
    {
      "cell_type": "code",
      "execution_count": null,
      "metadata": {
        "id": "GAAP_9qrZtV9"
      },
      "outputs": [],
      "source": [
        "class GPTModel(nn.Module):\n",
        "    def __init__(self, cfg):\n",
        "        super().__init__()\n",
        "        # Getting token, positional embeddings and dropout layer\n",
        "        self.tok_emb = nn.Embedding(cfg[\"vocab_size\"], cfg[\"emb_dim\"])\n",
        "        self.pos_emb = nn.Embedding(cfg[\"context_length\"], cfg[\"emb_dim\"])\n",
        "        self.drop_emb = nn.Dropout(cfg[\"drop_rate\"])\n",
        "\n",
        "        # Creating transformer blocks with the num layers and num heads\n",
        "        self.trf_blocks = nn.Sequential(\n",
        "            *[TransformerBlock(cfg) for _ in range(cfg[\"n_layers\"])])\n",
        "\n",
        "        # We use the layer normalization at the end of the transformer blocks\n",
        "            # and then we have the output head for the final logits of vector size of vocab_size\n",
        "        self.final_norm = LayerNorm(cfg[\"emb_dim\"])\n",
        "        self.out_head = nn.Linear(\n",
        "            cfg[\"emb_dim\"], cfg[\"vocab_size\"], bias=False\n",
        "        )\n",
        "\n",
        "    def forward(self, in_idx):\n",
        "        # We get the input shape and then we get the token and positional embeddings which are added together\n",
        "            # for input embeddings\n",
        "        batch_size, seq_len = in_idx.shape\n",
        "        tok_embeds = self.tok_emb(in_idx)\n",
        "        pos_embeds = self.pos_emb(torch.arange(seq_len, device=in_idx.device))\n",
        "        x = tok_embeds + pos_embeds  # Shape [batch_size, num_tokens, emb_size]\n",
        "\n",
        "        # we apply dropout layer and then pass it through the transformer blocks which could range form\n",
        "            # 1 to 12 to even 144 layers and then we apply the final layer normalization and\n",
        "                # the output head to get the logits or in simple words the probabilities of the next token\n",
        "        x = self.drop_emb(x)\n",
        "        x = self.trf_blocks(x)\n",
        "        x = self.final_norm(x)\n",
        "        logits = self.out_head(x)\n",
        "        \n",
        "        return logits"
      ]
    },
    {
      "cell_type": "code",
      "execution_count": null,
      "metadata": {
        "id": "HorsO6d1kFnC"
      },
      "outputs": [],
      "source": [
        "model = GPTModel(GPT_CONFIG_124M)"
      ]
    },
    {
      "cell_type": "markdown",
      "metadata": {
        "id": "i9KNnDC1LF0H"
      },
      "source": [
        "## Generating new Output Tokens"
      ]
    },
    {
      "cell_type": "code",
      "execution_count": null,
      "metadata": {
        "id": "Y0eNJ7R3LKov"
      },
      "outputs": [],
      "source": [
        "def generate_text_simple(model, idx, max_new_tokens, context_size):\n",
        "\n",
        "  # idx is (batch, n_tokens) array of indices in current context\n",
        "  for _ in range(max_new_tokens):\n",
        "    # If LLM suports only 5 tokens, and the context size is 10, then we only use last 5 toens as context.\n",
        "    idx_cond = idx[:, -context_size:]\n",
        "\n",
        "    # Gettings the predictions\n",
        "    with torch.no_grad():\n",
        "      # Reshape idx_cond to (batch_size, sequence_length, emb_dim)\n",
        "      # idx_cond = idx_cond.unsqueeze(-1).repeat(1 , 1, model.norm1.scale.shape[0]) # Or model.att.d_in to get the embedding dimension\n",
        "      logits = model(idx_cond) # (batch, num_tokens, vocab_size)\n",
        "\n",
        "    # We take the last row. We dont do anything to the batches neither to the last dimension of the vocabularies, but take the last row\n",
        "    logits = logits[:, -1, :] # (batch, vocab_size)\n",
        "\n",
        "    # getting probablities from the logits. We can say something like 50% chances of this, 2% chances of this...\n",
        "    probs = torch.softmax(logits, dim=-1) # (batch, vocab_size)\n",
        "\n",
        "    # We see the highest value's index\n",
        "    idx_next = torch.argmax(probs, dim=-1, keepdim=True) # (batch, 1)\n",
        "\n",
        "    # Append the predicted token_id generated to the original index\n",
        "    idx = torch.cat((idx, idx_next), dim=1) # (batch, num_tokens+1)\n",
        "\n",
        "  return idx"
      ]
    },
    {
      "cell_type": "code",
      "execution_count": null,
      "metadata": {
        "id": "1GdkXKbJsXXX"
      },
      "outputs": [],
      "source": [
        "def text_to_token_ids(text, tokenizer):\n",
        "  encoded = tokenizer.encode(text, allowed_special={'<|endoftext|>'})\n",
        "  encoded_tensor = torch.tensor(encoded).unsqueeze(0)\n",
        "  return encoded_tensor\n",
        "\n",
        "def token_ids_to_text(token_ids, tokenizer):\n",
        "  decoded = tokenizer.decode(token_ids.squeeze(0).tolist())\n",
        "  return decoded"
      ]
    },
    {
      "cell_type": "markdown",
      "metadata": {
        "id": "26YhYloEr_pK"
      },
      "source": [
        "## Loss Function"
      ]
    },
    {
      "cell_type": "code",
      "execution_count": null,
      "metadata": {
        "colab": {
          "base_uri": "https://localhost:8080/",
          "height": 54
        },
        "id": "dy9AGM83s-CL",
        "outputId": "f0a3b3e4-e30c-4ca5-a4da-92d3e46bfbd3"
      },
      "outputs": [
        {
          "data": {
            "application/vnd.google.colaboratory.intrinsic+json": {
              "type": "string"
            },
            "text/plain": [
              "'Every effort moves  thinly(\\\\Total todd variables high comedianschemist prosecutingarlingPlanet lessons Teach Jinn oversized OL DJs lured nonsensical Barrieraus Michel Columbagersamins'"
            ]
          },
          "execution_count": 15,
          "metadata": {},
          "output_type": "execute_result"
        }
      ],
      "source": [
        "input = \"Every effort moves \"\n",
        "\n",
        "output = token_ids_to_text(\n",
        "    generate_text_simple(\n",
        "        model=model,\n",
        "        idx=text_to_token_ids(input, tokenizer),\n",
        "        max_new_tokens=25,\n",
        "        context_size=GPT_CONFIG_124M[\"context_length\"]\n",
        "    ),\n",
        "    tokenizer\n",
        ")\n",
        "output"
      ]
    },
    {
      "cell_type": "code",
      "execution_count": null,
      "metadata": {
        "colab": {
          "base_uri": "https://localhost:8080/"
        },
        "id": "98R6he7KTBjS",
        "outputId": "fc187cad-67ab-4e9f-fc20-a0341736a797"
      },
      "outputs": [
        {
          "data": {
            "text/plain": [
              "tensor(11.1602, grad_fn=<NllLossBackward0>)"
            ]
          },
          "execution_count": 16,
          "metadata": {},
          "output_type": "execute_result"
        }
      ],
      "source": [
        "inputs = text_to_token_ids(\"Hello, bro, how are \", tokenizer)\n",
        "logits = model(inputs)\n",
        "targets = text_to_token_ids(\"Hello, bro, how are you\", tokenizer)\n",
        "\n",
        "logits = logits.view(-1, logits.size(-1))   # (batch * seq_len, vocab_size)\n",
        "targets = targets.view(-1)                  # (batch * seq_len,)\n",
        "\n",
        "loss = nn.functional.cross_entropy(logits, targets)\n",
        "loss"
      ]
    },
    {
      "cell_type": "markdown",
      "metadata": {
        "id": "AWpvLkIuR2pz"
      },
      "source": [
        "## Training and validation"
      ]
    },
    {
      "cell_type": "code",
      "execution_count": null,
      "metadata": {
        "id": "Xa9hSxAzVNzg"
      },
      "outputs": [],
      "source": [
        "with open(\"the_verdict.txt\", \"r\", encoding=\"utf-8\") as file:\n",
        "  data = file.read()"
      ]
    },
    {
      "cell_type": "code",
      "execution_count": null,
      "metadata": {
        "id": "bzhKHuN0spZL"
      },
      "outputs": [],
      "source": [
        "# Train/validation ratio\n",
        "train_ratio = 0.90\n",
        "split_idx = int(train_ratio * len(data))\n",
        "train_data = data[:split_idx]\n",
        "val_data = data[split_idx:]\n",
        "\n",
        "\n",
        "torch.manual_seed(123)\n",
        "\n",
        "train_loader = create_dataloader_v1(\n",
        "    train_data,\n",
        "    batch_size=2,\n",
        "    max_length=GPT_CONFIG_124M[\"context_length\"],\n",
        "    stride=GPT_CONFIG_124M[\"context_length\"],\n",
        "    drop_last=True,\n",
        "    shuffle=True,\n",
        "    num_workers=0\n",
        ")\n",
        "\n",
        "val_loader = create_dataloader_v1(\n",
        "    val_data,\n",
        "    batch_size=2,\n",
        "    max_length=GPT_CONFIG_124M[\"context_length\"],\n",
        "    stride=GPT_CONFIG_124M[\"context_length\"],\n",
        "    drop_last=False,\n",
        "    shuffle=False,\n",
        "    num_workers=0\n",
        ")"
      ]
    },
    {
      "cell_type": "code",
      "execution_count": null,
      "metadata": {
        "id": "btzrBWhVzYrh"
      },
      "outputs": [],
      "source": [
        "# Caluclates loss for a batch\n",
        "def calc_loss_batch(input_batch, target_batch, model, device):\n",
        "    input_batch, target_batch = input_batch.to(device), target_batch.to(device)\n",
        "    logits = model(input_batch)\n",
        "    loss = torch.nn.functional.cross_entropy(logits.flatten(0, 1), target_batch.flatten())\n",
        "    return loss\n",
        "\n",
        "# Caluculates loss for ENTIRE data_loader which calls calc_loss_batch function inside itself\n",
        "def calc_loss_loader(data_loader, model, device, num_batches=None):\n",
        "    total_loss = 0.\n",
        "    if len(data_loader) == 0:\n",
        "        return float(\"nan\")\n",
        "    elif num_batches is None:\n",
        "        num_batches = len(data_loader)\n",
        "    else:\n",
        "        # Reduce the number of batches to match the total number of batches in the data loader\n",
        "        # if num_batches exceeds the number of batches in the data loader\n",
        "        num_batches = min(num_batches, len(data_loader))\n",
        "    for i, (input_batch, target_batch) in enumerate(data_loader):\n",
        "        if i < num_batches:\n",
        "            loss = calc_loss_batch(input_batch, target_batch, model, device)\n",
        "            total_loss += loss.item()\n",
        "        else:\n",
        "            break\n",
        "    return total_loss / num_batches"
      ]
    },
    {
      "cell_type": "code",
      "execution_count": null,
      "metadata": {
        "id": "Esc6y7RSOUCU"
      },
      "outputs": [],
      "source": [
        "def evaluate_model(model, train_loader, val_loader, device, eval_iter):\n",
        "  # basically returns the losses for training and validation\n",
        "  model.eval()\n",
        "  with torch.no_grad():\n",
        "    return calc_loss_loader(train_loader, model, device, eval_iter), calc_loss_loader(val_loader, model, device, eval_iter)"
      ]
    },
    {
      "cell_type": "code",
      "execution_count": null,
      "metadata": {
        "id": "MyCcIghSPyQL"
      },
      "outputs": [],
      "source": [
        "def generate_and_print_sample(model, tokenizer, device, start_context):\n",
        "  # we print out, what the model is generating right now at the end of each epoch. Also, we print 50 items!\n",
        "  model.eval()\n",
        "  context_size = model.pos_emb.weight.shape[0]\n",
        "  encoded = text_to_token_ids(start_context, tokenizer).to(device)\n",
        "\n",
        "  with torch.no_grad():\n",
        "    token_ids = generate_text_simple(\n",
        "        model, encoded, 50, context_size\n",
        "    )\n",
        "\n",
        "  decoded = token_ids_to_text(token_ids, tokenizer)\n",
        "  print(decoded.replace(\"\\n\", \" \"))\n",
        "  model.train()"
      ]
    },
    {
      "cell_type": "markdown",
      "metadata": {
        "id": "hecWiYDyNF35"
      },
      "source": [
        "## **TRAINING**"
      ]
    },
    {
      "cell_type": "code",
      "execution_count": null,
      "metadata": {
        "id": "OzoNhE4bMMnc"
      },
      "outputs": [],
      "source": [
        "def train_model_simple(model, train_loader, val_loader, optimizer, device, num_epochs,\n",
        "                       eval_freq, eval_iter, start_context, tokenizer):\n",
        "    # Initialize lists to track losses and tokens seen\n",
        "    train_losses, val_losses, track_tokens_seen = [], [], []\n",
        "    tokens_seen, global_step = 0, -1\n",
        "\n",
        "    # Main training loop\n",
        "    for epoch in range(num_epochs):\n",
        "        model.train()  # Set model to training mode\n",
        "\n",
        "        for input_batch, target_batch in train_loader:\n",
        "            optimizer.zero_grad() # Reset loss gradients from previous batch iteration\n",
        "            loss = calc_loss_batch(input_batch, target_batch, model, device)\n",
        "            loss.backward() # Calculate loss gradients\n",
        "            optimizer.step() # Update model weights using loss gradients\n",
        "            tokens_seen += input_batch.numel() # Returns the total number of elements (or tokens) in the input_batch.\n",
        "            global_step += 1\n",
        "\n",
        "            # Optional evaluation step\n",
        "            if global_step % eval_freq == 0:\n",
        "                train_loss, val_loss = evaluate_model(\n",
        "                    model, train_loader, val_loader, device, eval_iter)\n",
        "                train_losses.append(train_loss)\n",
        "                val_losses.append(val_loss)\n",
        "                track_tokens_seen.append(tokens_seen)\n",
        "                print(f\"Ep {epoch+1} (Step {global_step:06d}): \"\n",
        "                      f\"Train loss {train_loss:.3f}, Val loss {val_loss:.3f}\")\n",
        "\n",
        "        # Print a sample text after each epoch\n",
        "        generate_and_print_sample(\n",
        "            model, tokenizer, device, start_context\n",
        "        )\n",
        "\n",
        "    return train_losses, val_losses, track_tokens_seen"
      ]
    },
    {
      "cell_type": "code",
      "execution_count": null,
      "metadata": {
        "colab": {
          "base_uri": "https://localhost:8080/"
        },
        "id": "Ay7EKoDuTzny",
        "outputId": "6f8271e8-49bf-484e-a814-26ca584fc7f9"
      },
      "outputs": [
        {
          "name": "stdout",
          "output_type": "stream",
          "text": [
            "Ep 1 (Step 000000): Train loss 9.504, Val loss 9.763\n",
            "Ep 1 (Step 000005): Train loss 6.928, Val loss 7.202\n",
            "I had always                                                   \n",
            "Ep 2 (Step 000010): Train loss 6.241, Val loss 6.885\n",
            "Ep 2 (Step 000015): Train loss 5.999, Val loss 6.980\n",
            "I had always                                                   \n",
            "Ep 3 (Step 000020): Train loss 6.042, Val loss 6.965\n",
            "Ep 3 (Step 000025): Train loss 6.084, Val loss 7.034\n",
            "I had always                                                   \n",
            "Ep 4 (Step 000030): Train loss 6.089, Val loss 7.040\n",
            "Ep 4 (Step 000035): Train loss 6.019, Val loss 7.023\n",
            "I had always                                                   \n",
            "Ep 5 (Step 000040): Train loss 5.938, Val loss 7.015\n",
            "I had always                                                   \n",
            "Ep 6 (Step 000045): Train loss 5.852, Val loss 6.931\n",
            "Ep 6 (Step 000050): Train loss 5.785, Val loss 6.858\n",
            "I had always ,,,,,,,,,,,,,,,,,,,,,,,,,,,,,,,,,,,,,,,,,,,,,,,,,,\n",
            "Ep 7 (Step 000055): Train loss 5.733, Val loss 6.774\n",
            "Ep 7 (Step 000060): Train loss 5.648, Val loss 6.729\n",
            "I had always                                                   \n",
            "Ep 8 (Step 000065): Train loss 5.605, Val loss 6.745\n",
            "Ep 8 (Step 000070): Train loss 5.564, Val loss 6.746\n",
            "I had always                                                   \n",
            "Ep 9 (Step 000075): Train loss 5.383, Val loss 6.714\n",
            "Ep 9 (Step 000080): Train loss 5.216, Val loss 6.622\n",
            "I had always                                                   \n",
            "Ep 10 (Step 000085): Train loss 5.201, Val loss 6.656\n",
            "I had always                                                   \n",
            "Ep 11 (Step 000090): Train loss 4.958, Val loss 6.635\n",
            "Ep 11 (Step 000095): Train loss 4.941, Val loss 6.768\n",
            "I had always                                                   \n",
            "Ep 12 (Step 000100): Train loss 4.593, Val loss 6.661\n",
            "Ep 12 (Step 000105): Train loss 4.321, Val loss 6.609\n",
            "I had always  \"I was his painting eyes--I \"I was me to the \"I was his last was his \"I couldn \"I was his \"I couldn't me. \"I \"I was his \"\n",
            "Ep 13 (Step 000110): Train loss 4.028, Val loss 6.780\n",
            "Ep 13 (Step 000115): Train loss 3.699, Val loss 6.793\n",
            "I had always  \"Oh, I was not to the picture's been I couldn't.\" \"Oh, I had been the  \"Oh, and I had been the end, I had been, and I had been I felt. \"Oh\n",
            "Ep 14 (Step 000120): Train loss 3.557, Val loss 6.883\n",
            "Ep 14 (Step 000125): Train loss 2.917, Val loss 6.898\n",
            "I had always . \"Oh--his-rooms with a little a littleel a little--his.  \"Oh.  \"Oh \"Oh, and Mrs. \"--his.  \"I turned.    \n",
            "Ep 15 (Step 000130): Train loss 2.761, Val loss 6.993\n",
            "I had always . I had been \"Oh--and I had been  \"Oh--and I had been   \"Oh, I had always it. Gisburn's an was a prod with \"Oh, I had been the picture\n",
            "Ep 16 (Step 000135): Train loss 2.209, Val loss 6.924\n",
            "Ep 16 (Step 000140): Train loss 2.108, Val loss 7.122\n",
            "I had always  I said-table: \"We--as Mrs. And--and of the last he was to have been the her--as it to have been denied--as up.       \"I have: \"lift him--\n",
            "Ep 17 (Step 000145): Train loss 1.658, Val loss 7.172\n",
            "Ep 17 (Step 000150): Train loss 1.326, Val loss 7.227\n",
            "I had always  Stroud his her    \"Ah.  I told Mrs. It was his pictures--his her eyebrows with a hint of the donkey--couldn't face it, I           \n",
            "Ep 18 (Step 000155): Train loss 1.086, Val loss 7.300\n",
            "Ep 18 (Step 000160): Train loss 0.918, Val loss 7.601\n",
            "I had always . Stroud! But. Gisburn. Stroud--I had to? My panel in a pale--his fair with a hint of it. It was a monumental was to be. It was. Stroud,\" she had to do;\n",
            "Ep 19 (Step 000165): Train loss 0.870, Val loss 7.578\n",
            "Ep 19 (Step 000170): Train loss 0.667, Val loss 7.577\n",
            "I had always  she began back his head to look up at the Mrs. The painting?\" I asked abruptly. \" because he was his--I felt \"Oh, so; and in the off a prodigious phrase about the honour being MINE--oh\n",
            "Ep 20 (Step 000175): Train loss 0.624, Val loss 7.782\n",
            "I had always  she began back his head to look up the picture.             \"--hisarry drawing-room, and uncertain.  \"Once, he doesn't HAVE to now, you know;\n",
            "Training completed in 49.41 minutes.\n"
          ]
        }
      ],
      "source": [
        "import time\n",
        "start_time = time.time()\n",
        "\n",
        "torch.manual_seed(123)\n",
        "model = GPTModel(GPT_CONFIG_124M)\n",
        "model.to(device)\n",
        "optimizer = torch.optim.AdamW(model.parameters(), lr=0.001, weight_decay=0.1)\n",
        "\n",
        "num_epochs = 20\n",
        "train_losses, val_losses, tokens_seen = train_model_simple(\n",
        "    model, train_loader, val_loader, optimizer, device,\n",
        "    num_epochs=num_epochs, eval_freq=5, eval_iter=5,\n",
        "    start_context=\"I had always \", tokenizer=tokenizer\n",
        ")\n",
        "\n",
        "end_time = time.time()\n",
        "execution_time_minutes = (end_time - start_time) / 60\n",
        "print(f\"Training completed in {execution_time_minutes:.2f} minutes.\")"
      ]
    },
    {
      "cell_type": "markdown",
      "metadata": {
        "id": "Rdf6MWEnwP48"
      },
      "source": [
        "## Post training stuff"
      ]
    },
    {
      "cell_type": "markdown",
      "metadata": {
        "id": "MCm-LO_Swupn"
      },
      "source": [
        "We also use torch.multinomial() instead of torch.argmax().\n",
        "\n",
        "And then we use torch.topk() for doing top-k sampling plus the temprature scaling"
      ]
    },
    {
      "cell_type": "code",
      "execution_count": null,
      "metadata": {
        "id": "F4ORTwgwQHnK"
      },
      "outputs": [],
      "source": [
        "def generate(model, idx, max_new_tokens, context_size, temprature=0.0, top_k=None, eos_id=None):\n",
        "  for _ in range(max_new_tokens):\n",
        "\n",
        "    # compressing idx to the context_size and basically taking last 4 tokens\n",
        "    idx = idx[:, -context_size:]\n",
        "    with torch.no_grad():\n",
        "      # we just need vocab size and batch thing, no need to keep track of num_tokens\n",
        "      logits = model(idx)[:, -1, :]\n",
        "\n",
        "    if top_k is not None:\n",
        "      # We take top k elements with highests logits score\n",
        "      top_logits = torch.topk(logits, top_k)\n",
        "\n",
        "      # Getting minimum value among three\n",
        "      min_val = top_logits[:, -1]\n",
        "\n",
        "      # replacing everything in logits to -infinity that is less than min_val\n",
        "      logits = torch.where(\n",
        "          condition=logits<min_val,\n",
        "          torch.tensor(float(-inf)).to(logits.device),\n",
        "          logits\n",
        "      )\n",
        "\n",
        "    # If temprature is above 0, we do temprature scaling\n",
        "    if temprature > 0.0:\n",
        "      # More temprature, high creativity. Less temprature, low creativity.\n",
        "      logits = logits / temprature\n",
        "      # applying softmax\n",
        "      probs =  torch.softmax(logits, dim=-1)\n",
        "\n",
        "      # Using multinomial, so that we pick randomly from the top k samples\n",
        "      idx_next = torch.multinomial(probs, num_sample=1)\n",
        "    else:\n",
        "      # If no temprature, we use argmax\n",
        "      idx_next = torch.argmax(logits, dim=-1, keep_dim=True)\n",
        "\n",
        "    # If we see end of sequence token, we stop early\n",
        "    if idx_next==eos_id:\n",
        "      break\n",
        "\n",
        "    # and we concat the new token, to the older sentence and move back or out of the for loop\n",
        "    idx = torch.cat((idx, idx_next), dim=1)\n",
        "\n",
        "    return idx"
      ]
    },
    {
      "cell_type": "markdown",
      "metadata": {},
      "source": [
        "## Saving and loading the model"
      ]
    },
    {
      "cell_type": "code",
      "execution_count": null,
      "metadata": {},
      "outputs": [],
      "source": [
        "torch.save(model.state_dict(), 'gpt2v1.pth')"
      ]
    },
    {
      "cell_type": "code",
      "execution_count": null,
      "metadata": {},
      "outputs": [],
      "source": [
        "torch.load('gpt2v1.pth')"
      ]
    }
  ],
  "metadata": {
    "colab": {
      "collapsed_sections": [
        "oqe50lsvju_R",
        "AxrmG9EktXox",
        "xZz0LaT97T66",
        "i9KNnDC1LF0H",
        "26YhYloEr_pK",
        "AWpvLkIuR2pz",
        "hecWiYDyNF35",
        "Rdf6MWEnwP48"
      ],
      "provenance": []
    },
    "kernelspec": {
      "display_name": "Python 3",
      "name": "python3"
    },
    "language_info": {
      "name": "python"
    }
  },
  "nbformat": 4,
  "nbformat_minor": 0
}
